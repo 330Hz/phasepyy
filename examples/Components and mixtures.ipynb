{
 "cells": [
  {
   "cell_type": "markdown",
   "metadata": {},
   "source": [
    "# Components and mixtures creating\n",
    "\n",
    "\n",
    "This notebook has te purpose of showing examples of the attributues of components and mixtures objects.\n"
   ]
  },
  {
   "cell_type": "code",
   "execution_count": 6,
   "metadata": {},
   "outputs": [],
   "source": [
    "import numpy as np\n",
    "from phasepy import mixture, component"
   ]
  },
  {
   "cell_type": "code",
   "execution_count": 7,
   "metadata": {},
   "outputs": [
    {
     "name": "stdout",
     "output_type": "stream",
     "text": [
      "Water saturation pressure at T = 373K is  1.0072796747419537  bar\n",
      "Water liquid volume at T = 310K is  16.46025809309672  cm3/mol\n",
      "Ethanol saturation pressure at T = 373K is  2.233335305328437  bar\n",
      "Ethanol liquid volume at T = 310K is  56.32856995891473  cm3/mol\n"
     ]
    }
   ],
   "source": [
    "water = component(name = 'water', Tc = 647.13, Pc = 220.55, Zc = 0.229, Vc = 55.948, w = 0.344861,\n",
    "                Ant =  [  11.64785144, 3797.41566067,  -46.77830444],\n",
    "                GC = {'H2O':1})\n",
    "\n",
    "ethanol = component(name = 'ethanol', Tc = 514.0, Pc = 61.37, Zc = 0.241, Vc = 168.0, w = 0.643558,\n",
    "                Ant = [  11.61809279, 3423.0259436 ,  -56.48094263],\n",
    "                GC = {'CH3':1, 'CH2':1,'OH(P)':1})\n",
    "\n",
    "print('Water saturation pressure at T = 373K is ', water.psat(T = 373), ' bar')\n",
    "print('Water liquid volume at T = 310K is ', water.vlrackett(T = 310), ' cm3/mol')\n",
    "print('Ethanol saturation pressure at T = 373K is ', ethanol.psat(T = 373), ' bar')\n",
    "print('Ethanol liquid volume at T = 310K is ', ethanol.vlrackett(T = 310), ' cm3/mol')"
   ]
  },
  {
   "cell_type": "markdown",
   "metadata": {},
   "source": [
    "Mixtures can be created from components. Also, same methods are available from them."
   ]
  },
  {
   "cell_type": "code",
   "execution_count": 8,
   "metadata": {},
   "outputs": [
    {
     "data": {
      "text/plain": [
       "array([56.32856996, 16.46025809])"
      ]
     },
     "execution_count": 8,
     "metadata": {},
     "output_type": "execute_result"
    }
   ],
   "source": [
    "mix = mixture(ethanol, water)\n",
    "mix.names\n",
    "['ethanol', 'water']\n",
    "mix.nc\n",
    "2\n",
    "mix.psat(T = 373)\n",
    "#array([2.23333531, 1.00727967])\n",
    "mix.vlrackett(T = 310)\n",
    "#array([56.32856996, 16.46025809])"
   ]
  },
  {
   "cell_type": "markdown",
   "metadata": {},
   "source": [
    "From mixtures models can be created, the simpliest model is to use a virial expansion for vapor phase and a activity coefficient model for liquid phase. In order to that you need virialgama function that requires a mixture, virial correlation and activity coefficient model."
   ]
  },
  {
   "cell_type": "code",
   "execution_count": 9,
   "metadata": {},
   "outputs": [
    {
     "data": {
      "text/plain": [
       "(True, True, True)"
      ]
     },
     "execution_count": 9,
     "metadata": {},
     "output_type": "execute_result"
    }
   ],
   "source": [
    "from phasepy import virialgama, Abbott, nrtl\n",
    "alpha = np.array([[0.       , 0.5597628],\n",
    "       [0.5597628, 0.       ]])\n",
    "g = np.array([[  0.       , -57.6880881],\n",
    "       [668.682368 ,   0.       ]])\n",
    "g1 = np.array([[ 0.        ,  0.46909821],\n",
    "       [-0.37982045,  0.        ]])\n",
    "#g are energy parameters of nrtl model in K.\n",
    "#A = g + g1/T \n",
    "\n",
    "#Adding activity model parameters\n",
    "mix.NRTL(alpha, g, g1)\n",
    "\n",
    "#Creating Model\n",
    "model = virialgama(mix, virialmodel = Abbott, actmodel = nrtl )\n",
    "#Model parameters are saved in actmodelp attribute\n",
    "parameters = model.actmodelp\n",
    "np.all(parameters[0] == alpha), np.all(parameters[1] == g), np.all(parameters[2] == g1)"
   ]
  },
  {
   "cell_type": "code",
   "execution_count": 10,
   "metadata": {},
   "outputs": [
    {
     "data": {
      "text/plain": [
       "(True, True)"
      ]
     },
     "execution_count": 10,
     "metadata": {},
     "output_type": "execute_result"
    }
   ],
   "source": [
    "#rk is the Redlich Kister Expansion used for Ge/RT\n",
    "from phasepy import rk\n",
    "C0 = np.array([ 1.20945699, -0.62209997,  3.18919339])\n",
    "C1 = np.array([  -13.271128,   101.837857, -1100.29221 ])\n",
    "\n",
    "#Parameters are calculated as C = C0 + C1/T\n",
    "mix.rk(C0, C1)\n",
    "#Creating model\n",
    "model = virialgama(mix, actmodel = rk )\n",
    "\n",
    "#Readimg parameters\n",
    "parameters = model.actmodelp\n",
    "np.all(parameters[0] == C0), np.all(parameters[1] == C1)\n"
   ]
  },
  {
   "cell_type": "markdown",
   "metadata": {},
   "source": [
    "It is also possible to work in a predictive way, using unifac activity coefficient model."
   ]
  },
  {
   "cell_type": "code",
   "execution_count": 11,
   "metadata": {},
   "outputs": [],
   "source": [
    "from phasepy import unifac, ideal_gas\n",
    "#Reading UNIFAC database\n",
    "mix.unifac()\n",
    "#Creating Model\n",
    "model = virialgama(mix, virialmodel = ideal_gas, actmodel = unifac)"
   ]
  },
  {
   "cell_type": "markdown",
   "metadata": {},
   "source": [
    "Cubic EOS are also available for phase equilibria and interfacial properties calculations."
   ]
  },
  {
   "cell_type": "code",
   "execution_count": 12,
   "metadata": {},
   "outputs": [],
   "source": [
    "from phasepy import preos\n",
    "\n",
    "#preos refers to Peng Robinson EOS\n",
    "#Quadratic and MHV mixrule were programmed\n",
    "\n",
    "Kij = np.array([[0, -0.11], [-0.11, 0]])\n",
    "mix.kij_cubic(Kij)\n",
    "pr = preos(mix, mixrule = 'qmr')\n",
    "\n",
    "alpha = np.array([[0.       , 0.5597628],\n",
    "       [0.5597628, 0.       ]])\n",
    "g = np.array([[  0.       , -57.6880881],\n",
    "       [668.682368 ,   0.       ]])\n",
    "g1 = np.array([[ 0.        ,  0.46909821],\n",
    "       [-0.37982045,  0.        ]])\n",
    "\n",
    "#Adding activity model parameters\n",
    "mix.NRTL(alpha, g, g1)\n",
    "pr = preos(mix, mixrule = 'mhv_nrtl')\n",
    "\n",
    "#reading UNIFAC database\n",
    "mix.unifac()\n",
    "pr = preos(mix, mixrule = 'mhv_unifac')\n",
    "\n",
    "C0 = np.array([ 1.20945699, -0.62209997,  3.18919339])\n",
    "C1 = np.array([  -13.271128,   101.837857, -1100.29221 ])\n",
    "#Parameters are calculated as C = C0 + C1/T\n",
    "mix.rk(C0, C1)\n",
    "pr = preos(mix, mixrule = 'mhv_rk')"
   ]
  },
  {
   "cell_type": "markdown",
   "metadata": {},
   "source": [
    "For further info about you can check official documentation or just write:\n",
    "\n",
    "```function?```"
   ]
  }
 ],
 "metadata": {
  "kernelspec": {
   "display_name": "Python 3",
   "language": "python",
   "name": "python3"
  },
  "language_info": {
   "codemirror_mode": {
    "name": "ipython",
    "version": 3
   },
   "file_extension": ".py",
   "mimetype": "text/x-python",
   "name": "python",
   "nbconvert_exporter": "python",
   "pygments_lexer": "ipython3",
   "version": "3.7.3"
  }
 },
 "nbformat": 4,
 "nbformat_minor": 2
}
