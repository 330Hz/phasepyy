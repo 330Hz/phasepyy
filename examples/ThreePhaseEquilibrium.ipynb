{
 "cells": [
  {
   "cell_type": "markdown",
   "metadata": {},
   "source": [
    "# Vapor Liquid Liquid Equilibrium (VLLE)\n",
    "\n",
    "This notebook has te purpose of showing examples of VLLE of mixtures with phasepy.\n",
    "\n",
    "First it's needed to import the necessary modules"
   ]
  },
  {
   "cell_type": "code",
   "execution_count": 2,
   "metadata": {},
   "outputs": [],
   "source": [
    "import numpy as np\n",
    "from phasepy import component, mixture, virialgama, unifac"
   ]
  },
  {
   "cell_type": "code",
   "execution_count": 5,
   "metadata": {},
   "outputs": [
    {
     "data": {
      "text/plain": [
       "(array([0.17165664, 0.82834336]),\n",
       " array([0.99256232, 0.00743768]),\n",
       " array([0.15177621, 0.84822379]),\n",
       " array([327.6066936]))"
      ]
     },
     "execution_count": 5,
     "metadata": {},
     "output_type": "execute_result"
    }
   ],
   "source": [
    "from phasepy.equilibrium import hazb\n",
    "\n",
    "water = component(name = 'water', Tc = 647.13, Pc = 220.55, Zc = 0.229, Vc = 55.948, w = 0.344861,\n",
    "                Ant =  [  11.64785144, 3797.41566067,  -46.77830444],\n",
    "                GC = {'H2O':1})\n",
    "\n",
    "mtbe = component(name = 'mtbe', Tc = 497.1, Pc = 34.3, Zc = 0.273, Vc = 329.0, w = 0.266059,\n",
    "                Ant = [   9.16238246, 2541.97883529,  -50.40534341], \n",
    "                GC = {'CH3':3, 'CH3O':1, 'C':1})\n",
    "\n",
    "mix = mixture(water, mtbe)\n",
    "mix.unifac()\n",
    "model = virialgama(mix, actmodel = unifac)\n",
    "\n",
    "P = 1.01 #bar\n",
    "\n",
    "#initial guess\n",
    "T0 = 320 #K\n",
    "x0 = np.array([0.01,0.99])\n",
    "w0 = np.array([0.99,0.01])\n",
    "y0 = (x0 + w0)/2\n",
    "hazb(x0,w0,y0, T0, P, 'P', model)"
   ]
  },
  {
   "cell_type": "code",
   "execution_count": 8,
   "metadata": {},
   "outputs": [
    {
     "data": {
      "text/plain": [
       "           T: 328.5\n",
       "           P: 1.01\n",
       " error_outer: 8.15310494271961e-11\n",
       " error_inner: 1.7587910509398414e-10\n",
       "        iter: 2\n",
       "        beta: array([0.4189389 , 0.18145858, 0.39960252])\n",
       "       tetha: array([0., 0., 0.])\n",
       "           X: array([[0.94674077, 0.01222667, 0.04103255],\n",
       "       [0.23284951, 0.67121796, 0.09593252],\n",
       "       [0.15295429, 0.78764814, 0.05939758]])\n",
       "           v: [None, None, None]\n",
       "      states: ['L', 'L', 'V']"
      ]
     },
     "execution_count": 8,
     "metadata": {},
     "output_type": "execute_result"
    }
   ],
   "source": [
    "from phasepy.equilibrium import haz\n",
    "\n",
    "water = component(name = 'water', Tc = 647.13, Pc = 220.55, Zc = 0.229, Vc = 55.948, w = 0.344861,\n",
    "                Ant =  [  11.64785144, 3797.41566067,  -46.77830444],\n",
    "                GC = {'H2O':1})\n",
    "\n",
    "mtbe = component(name = 'mtbe', Tc = 497.1, Pc = 34.3, Zc = 0.273, Vc = 329.0, w = 0.266059,\n",
    "                Ant = [   9.16238246, 2541.97883529,  -50.40534341], \n",
    "                GC = {'CH3':3, 'CH3O':1, 'C':1})\n",
    "\n",
    "\n",
    "ethanol = component(name = 'ethanol', Tc = 514.0, Pc = 61.37, Zc = 0.241, Vc = 168.0, w = 0.643558,\n",
    "                Ant = [  11.61809279, 3423.0259436 ,  -56.48094263],\n",
    "                GC = {'CH3':1, 'CH2':1,'OH(P)':1})\n",
    "\n",
    "mix = mixture(water, mtbe)\n",
    "mix.add_component(ethanol)\n",
    "mix.unifac()\n",
    "model = virialgama(mix, actmodel = unifac)\n",
    "\n",
    "P = 1.01 #bar\n",
    "T = 328.5\n",
    "\n",
    "#initial guess\n",
    "x0 = np.array([0.95, 0.025, 0.025]),\n",
    "w0 =  np.array([0.4, 0.5 , 0.1])\n",
    "y0 = np.array([0.15,0.8,0.05])\n",
    "\n",
    "haz(x0, w0, y0, T, P, model, full_output = True)"
   ]
  },
  {
   "cell_type": "code",
   "execution_count": 9,
   "metadata": {},
   "outputs": [],
   "source": [
    "haz?"
   ]
  },
  {
   "cell_type": "code",
   "execution_count": null,
   "metadata": {},
   "outputs": [],
   "source": []
  }
 ],
 "metadata": {
  "kernelspec": {
   "display_name": "Python 3",
   "language": "python",
   "name": "python3"
  },
  "language_info": {
   "codemirror_mode": {
    "name": "ipython",
    "version": 3
   },
   "file_extension": ".py",
   "mimetype": "text/x-python",
   "name": "python",
   "nbconvert_exporter": "python",
   "pygments_lexer": "ipython3",
   "version": "3.7.1"
  }
 },
 "nbformat": 4,
 "nbformat_minor": 2
}
