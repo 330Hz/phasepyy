{
 "cells": [
  {
   "cell_type": "markdown",
   "metadata": {},
   "source": [
    "# Flash Calculation (VLE and LLE)\n",
    "\n",
    "This notebook has te purpose of showing examples of flash calculationsof mixtures with phasepy.\n",
    "\n",
    "First it's needed to import the necessary modules"
   ]
  },
  {
   "cell_type": "code",
   "execution_count": 1,
   "metadata": {},
   "outputs": [],
   "source": [
    "import numpy as np\n",
    "from phasepy import mixture, component, preos\n",
    "#preos refers to Peng Robinson EOS"
   ]
  },
  {
   "cell_type": "code",
   "execution_count": 2,
   "metadata": {},
   "outputs": [],
   "source": [
    "#Components creation\n",
    "water = component(name = 'water', Tc = 647.13, Pc = 220.55, \n",
    "                  w = 0.344861, GC = {'H2O':1})\n",
    "ethanol = component(name = 'ethanol', Tc = 514.0, Pc = 61.37,\n",
    "                    w = 0.643558, GC = {'CH3':1, 'CH2':1,'OH(P)':1})\n",
    "\n",
    "#Mixture Creating\n",
    "mix = mixture(ethanol, water)\n",
    "#In order to read UNIFAC database\n",
    "mix.unifac() \n",
    "\n",
    "#Final EOS object for all phase equilibrium calculations\n",
    "eos = preos(mix, 'mhv_unifac')"
   ]
  },
  {
   "cell_type": "code",
   "execution_count": 3,
   "metadata": {},
   "outputs": [],
   "source": [
    "from phasepy.equilibrium import flash"
   ]
  },
  {
   "cell_type": "markdown",
   "metadata": {},
   "source": [
    "The ```flash``` function requires initial guesses for the phase composition, the states of the phases, i.e ```'LV``` fo liquid-vapor flash or ```'LL``` for liquid liquid flash, the global phase composition and the temperature and pressure of the system."
   ]
  },
  {
   "cell_type": "code",
   "execution_count": 4,
   "metadata": {},
   "outputs": [
    {
     "data": {
      "text/plain": [
       "      T: 350.0\n",
       "      P: 0.8\n",
       "   beta: 0.466570454690678\n",
       "  error: 9.467811189463731e-09\n",
       "   iter: 7\n",
       "      X: array([0.23951593, 0.76048407])\n",
       "     v1: 32.508877873118664\n",
       " state1: 'L'\n",
       "      Y: array([0.58348128, 0.41651872])\n",
       "     v2: 35869.13850299179\n",
       " state2: 'V'"
      ]
     },
     "execution_count": 4,
     "metadata": {},
     "output_type": "execute_result"
    }
   ],
   "source": [
    "T = 350.\n",
    "P = 0.8\n",
    "z = np.array([0.4,0.6])\n",
    "x0 = np.array([0.23512692, 0.76487308])\n",
    "y0 = np.array([0.5,0.5])\n",
    "flash(x0, y0, 'LV', z, T,  P, eos, full_output = True)"
   ]
  },
  {
   "cell_type": "code",
   "execution_count": 5,
   "metadata": {},
   "outputs": [
    {
     "data": {
      "text/plain": [
       "      T: 320\n",
       "      P: 1.01\n",
       "   beta: 0.41102572057220643\n",
       "  error: 2.4238302801963622e-09\n",
       "   iter: 10\n",
       "      X: array([0.15602773, 0.84397227])\n",
       "     v1: 102.25340740256\n",
       " state1: 'L'\n",
       "      Y: array([0.99289086, 0.00710914])\n",
       "     v2: 22.185269194247645\n",
       " state2: 'L'"
      ]
     },
     "execution_count": 5,
     "metadata": {},
     "output_type": "execute_result"
    }
   ],
   "source": [
    "#Component and mixture creation\n",
    "water = component(name = 'water', Tc = 647.13, Pc = 220.55, Zc = 0.229, Vc = 55.948, w = 0.344861,\n",
    "                Ant =  [  11.64785144, 3797.41566067,  -46.77830444],\n",
    "                GC = {'H2O':1})\n",
    "\n",
    "mtbe = component(name = 'mtbe', Tc = 497.1, Pc = 34.3, Zc = 0.273, Vc = 329.0, w = 0.266059,\n",
    "                Ant = [   9.16238246, 2541.97883529,  -50.40534341], \n",
    "                GC = {'CH3':3, 'CH3O':1, 'C':1})\n",
    "\n",
    "mixell = mixture(water, mtbe)\n",
    "mixell.unifac()\n",
    "\n",
    "mell = preos(mixell, 'mhv_unifac')\n",
    "#Flash conditions\n",
    "T = 320 #K\n",
    "P = 1.01 #bar\n",
    "\n",
    "#global composition\n",
    "Z  = np.array([0.5,0.5])\n",
    "\n",
    "#initial guess\n",
    "x0 = np.array([0.01,0.99])\n",
    "w0 = np.array([0.99,0.01])\n",
    "\n",
    "\n",
    "flash(x0, w0, 'LL', Z, T, P, mell, full_output = True)"
   ]
  },
  {
   "cell_type": "markdown",
   "metadata": {},
   "source": [
    "For further info about you can check official documentation or just write:\n",
    "\n",
    "```function?```"
   ]
  },
  {
   "cell_type": "code",
   "execution_count": null,
   "metadata": {},
   "outputs": [],
   "source": []
  }
 ],
 "metadata": {
  "kernelspec": {
   "display_name": "Python 3",
   "language": "python",
   "name": "python3"
  },
  "language_info": {
   "codemirror_mode": {
    "name": "ipython",
    "version": 3
   },
   "file_extension": ".py",
   "mimetype": "text/x-python",
   "name": "python",
   "nbconvert_exporter": "python",
   "pygments_lexer": "ipython3",
   "version": "3.8.3"
  }
 },
 "nbformat": 4,
 "nbformat_minor": 2
}
