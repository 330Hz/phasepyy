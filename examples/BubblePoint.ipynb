{
 "cells": [
  {
   "cell_type": "markdown",
   "metadata": {},
   "source": [
    "# Bubble Point (VLE)\n",
    "\n",
    "This notebook has te purpose of showing examples of VLE of mixtures with phasepy.\n",
    "\n",
    "First it's needed to import the necessary modules"
   ]
  },
  {
   "cell_type": "code",
   "execution_count": 1,
   "metadata": {},
   "outputs": [],
   "source": [
    "import numpy as np\n",
    "from phasepy import mixture, component, preos\n",
    "#preos refers to Peng Robinson EOS"
   ]
  },
  {
   "cell_type": "code",
   "execution_count": 2,
   "metadata": {},
   "outputs": [],
   "source": [
    "#Components creation\n",
    "water = component(name = 'water', Tc = 647.13, Pc = 220.55, \n",
    "                  w = 0.344861, GC = {'H2O':1})\n",
    "ethanol = component(name = 'ethanol', Tc = 514.0, Pc = 61.37,\n",
    "                    w = 0.643558, GC = {'CH3':1, 'CH2':1,'OH(P)':1})\n",
    "\n",
    "#Mixture Creating\n",
    "mix = mixture(ethanol, water)\n",
    "#In order to read UNIFAC database\n",
    "mix.unifac() \n",
    "\n",
    "#Final EOS object for all phase equilibrium calculations\n",
    "eos = preos(mix, 'mhv_unifac')"
   ]
  },
  {
   "cell_type": "code",
   "execution_count": 3,
   "metadata": {},
   "outputs": [
    {
     "data": {
      "text/plain": [
       "      T: 350\n",
       "      P: 0.8969829229313685\n",
       "  error: 1.1685097334179773e-12\n",
       "   iter: 5\n",
       "      X: array([0.5, 0.5])\n",
       "     v1: 44.14067480203941\n",
       " state1: 'Liquid'\n",
       "      Y: array([0.68233401, 0.31766599])\n",
       "     v2: 31901.550136613547\n",
       " state2: 'Vapor'"
      ]
     },
     "execution_count": 3,
     "metadata": {},
     "output_type": "execute_result"
    }
   ],
   "source": [
    "#importing bubble point algorithm x, T -> y , P\n",
    "from phasepy.equilibrium import bubblePy\n",
    "x = np.array([0.5,0.5])\n",
    "T = 350\n",
    "y0 = np.array([0.5,0.5])\n",
    "P0 = 1\n",
    "bubblePy(y0, P0, x, T, eos, full_output = True)"
   ]
  },
  {
   "cell_type": "code",
   "execution_count": 4,
   "metadata": {},
   "outputs": [
    {
     "data": {
      "text/plain": [
       "      T: 382.8457630542611\n",
       "      P: 3.0\n",
       "  error: 2.3347723757066713e-10\n",
       "   iter: 5\n",
       "      X: array([0.6, 0.4])\n",
       "     v1: 51.11127949434473\n",
       " state1: 'Liquid'\n",
       "      Y: array([0.7027532, 0.2972468])\n",
       "     v2: 10143.393200684548\n",
       " state2: 'Vapor'"
      ]
     },
     "execution_count": 4,
     "metadata": {},
     "output_type": "execute_result"
    }
   ],
   "source": [
    "#importing bubble point algorithm x, P -> y , T\n",
    "from phasepy.equilibrium import bubbleTy\n",
    "x = np.array([0.6,0.4])\n",
    "P = 3.\n",
    "y0 = np.array([0.5,0.5])\n",
    "T0 = 320.\n",
    "bubbleTy(y0, T0, x, P, eos, full_output = True)"
   ]
  },
  {
   "cell_type": "markdown",
   "metadata": {},
   "source": [
    "All equilibrium routines are n-component. An example with a ternary mixture:"
   ]
  },
  {
   "cell_type": "code",
   "execution_count": 5,
   "metadata": {},
   "outputs": [],
   "source": [
    "mtbe = component(name = 'mtbe', Tc = 497.1, Pc = 34.3, Zc = 0.273, Vc = 329.0, w = 0.266059,\n",
    "                Ant = [   9.16238246, 2541.97883529,  -50.40534341], \n",
    "                GC = {'CH3':3, 'CH3O':1, 'C':1})\n",
    "\n",
    "ethanol = component(name = 'ethanol', Tc = 514.0, Pc = 61.37, Zc = 0.241, Vc = 168.0, w = 0.643558,\n",
    "                Ant = [  11.61809279, 3423.0259436 ,  -56.48094263],\n",
    "                GC = {'CH3':1, 'CH2':1,'OH(P)':1})\n",
    "\n",
    "butanol = component(name = 'n-Butanol',  Tc =563.0, Pc = 44.14, Zc = 0.258, Vc = 274.0, w = 0.589462,\n",
    "                Ant = [   9.74673479, 2668.52570016, -116.66189545]\n",
    "                ,GC = {'CH3':1, 'CH2':3, 'OH(P)':1})\n",
    "\n",
    "mix2 = mixture(mtbe, ethanol)\n",
    "mix2.add_component(butanol)\n",
    "mix2.unifac()\n",
    "\n",
    "eos2 = preos(mix2, 'mhv_unifac')"
   ]
  },
  {
   "cell_type": "code",
   "execution_count": 6,
   "metadata": {},
   "outputs": [
    {
     "data": {
      "text/plain": [
       "      T: 350.0\n",
       "      P: 1.2793589882782748\n",
       "  error: 3.520245206445338e-10\n",
       "   iter: 5\n",
       "      X: array([0.2, 0.5, 0.3])\n",
       "     v1: 87.34523331412481\n",
       " state1: 'Liquid'\n",
       "      Y: array([0.52959484, 0.41590569, 0.05449947])\n",
       "     v2: 21941.39618150285\n",
       " state2: 'Vapor'"
      ]
     },
     "execution_count": 6,
     "metadata": {},
     "output_type": "execute_result"
    }
   ],
   "source": [
    "# bubble point  x, T -> y , P\n",
    "x = np.array([0.2,0.5, 0.3])\n",
    "T = 350.\n",
    "y0 = np.array([0.2,0.5, 0.3])\n",
    "P0 = 1\n",
    "bubblePy(y0, P0, x, T, eos2, full_output = True)"
   ]
  },
  {
   "cell_type": "code",
   "execution_count": 7,
   "metadata": {},
   "outputs": [
    {
     "data": {
      "text/plain": [
       "      T: 364.21634510645316\n",
       "      P: 2.0\n",
       "  error: 1.6631140908883462e-13\n",
       "   iter: 5\n",
       "      X: array([0.2, 0.5, 0.3])\n",
       "     v1: 89.37007988912585\n",
       " state1: 'Liquid'\n",
       "      Y: array([0.48385257, 0.45234158, 0.06380586])\n",
       "     v2: 14396.134733186012\n",
       " state2: 'Vapor'"
      ]
     },
     "execution_count": 7,
     "metadata": {},
     "output_type": "execute_result"
    }
   ],
   "source": [
    "# bubble point  x, P -> y , T\n",
    "x = np.array([0.2,0.5, 0.3])\n",
    "P = 2. #bar\n",
    "y0 = np.array([0.2,0.5, 0.3])\n",
    "T0 = 320 #K\n",
    "bubbleTy(y0, T0, x, P, eos2, full_output = True)"
   ]
  },
  {
   "cell_type": "markdown",
   "metadata": {},
   "source": [
    "For further info about you can check official documentation or just write:\n",
    "\n",
    "```function?```"
   ]
  },
  {
   "cell_type": "code",
   "execution_count": null,
   "metadata": {},
   "outputs": [],
   "source": []
  }
 ],
 "metadata": {
  "kernelspec": {
   "display_name": "Python 3",
   "language": "python",
   "name": "python3"
  },
  "language_info": {
   "codemirror_mode": {
    "name": "ipython",
    "version": 3
   },
   "file_extension": ".py",
   "mimetype": "text/x-python",
   "name": "python",
   "nbconvert_exporter": "python",
   "pygments_lexer": "ipython3",
   "version": "3.7.6"
  }
 },
 "nbformat": 4,
 "nbformat_minor": 2
}
