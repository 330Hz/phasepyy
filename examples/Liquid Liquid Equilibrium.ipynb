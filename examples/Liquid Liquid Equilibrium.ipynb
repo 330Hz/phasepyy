{
 "cells": [
  {
   "cell_type": "markdown",
   "metadata": {},
   "source": [
    "# Liquid Liquid Equilibrium (LLE)\n",
    "\n",
    "This notebook has te purpose of showing examples of LLE of mixtures with phasepy.\n",
    "\n",
    "LLE is solved as a two phase flash problem. In order to ensure stability of the solution, a multiflash that checks equilibrium and stability is solved by accelerated succesive sustitution. Then, when slow convergence rate, the algorithm attemps to minimize Gibbs free energy."
   ]
  },
  {
   "cell_type": "code",
   "execution_count": 1,
   "metadata": {},
   "outputs": [],
   "source": [
    "import numpy as np\n",
    "from phasepy import component, mixture, virialgamma, unifac\n",
    "from phasepy.equilibrium import lle"
   ]
  },
  {
   "cell_type": "code",
   "execution_count": 2,
   "metadata": {},
   "outputs": [],
   "source": [
    "#Component and mixture creation\n",
    "water = component(name = 'water', Tc = 647.13, Pc = 220.55, Zc = 0.229, Vc = 55.948, w = 0.344861,\n",
    "                Ant =  [  11.64785144, 3797.41566067,  -46.77830444],\n",
    "                GC = {'H2O':1})\n",
    "\n",
    "mtbe = component(name = 'mtbe', Tc = 497.1, Pc = 34.3, Zc = 0.273, Vc = 329.0, w = 0.266059,\n",
    "                Ant = [   9.16238246, 2541.97883529,  -50.40534341], \n",
    "                GC = {'CH3':3, 'CH3O':1, 'C':1})\n",
    "\n",
    "mixell = mixture(water, mtbe)\n",
    "mixell.unifac()\n",
    "mell = virialgamma(mixell, actmodel = 'unifac')"
   ]
  },
  {
   "cell_type": "code",
   "execution_count": 3,
   "metadata": {},
   "outputs": [
    {
     "data": {
      "text/plain": [
       "           T: 320\n",
       "           P: 1.01\n",
       " error_outer: 5.18684042016453e-13\n",
       " error_inner: 1.0505041868562563e-10\n",
       "        iter: 16\n",
       "        beta: array([0.58896516, 0.41103484])\n",
       "       tetha: array([0.])\n",
       "           X: array([[0.1560131 , 0.8439869 ],\n",
       "       [0.99289324, 0.00710676]])\n",
       "           v: [None, None]\n",
       "      states: ['L', 'L']"
      ]
     },
     "execution_count": 3,
     "metadata": {},
     "output_type": "execute_result"
    }
   ],
   "source": [
    "#Flash conditions\n",
    "T = 320 #K\n",
    "P = 1.01 #bar\n",
    "\n",
    "#global composition\n",
    "Z  = np.array([0.5,0.5])\n",
    "\n",
    "#initial guess\n",
    "x0 = np.array([0.01,0.99])\n",
    "w0 = np.array([0.99,0.01])\n",
    "\n",
    "\n",
    "lle(x0, w0, Z, T, P, mell, full_output = True)"
   ]
  },
  {
   "cell_type": "markdown",
   "metadata": {},
   "source": [
    "As initial guess are always complicated to get, an additional function is supplied that search for all the minimums of the tagent plane distance function."
   ]
  },
  {
   "cell_type": "code",
   "execution_count": 4,
   "metadata": {},
   "outputs": [
    {
     "data": {
      "text/plain": [
       "(array([0.99538258, 0.00461742]), array([0.30683406, 0.69316594]))"
      ]
     },
     "execution_count": 4,
     "metadata": {},
     "output_type": "execute_result"
    }
   ],
   "source": [
    "from phasepy.equilibrium import lle_init\n",
    "from phasepy import preos \n",
    "mix = mixture(water, mtbe)\n",
    "mix.unifac()\n",
    "model = preos(mix, 'mhv_unifac')\n",
    "\n",
    "T = 320\n",
    "P = 1.01\n",
    "z = np.array([0.5,0.5])\n",
    "\n",
    "#initial composition values for ell computation\n",
    "lle_init(z, T, P, model)"
   ]
  },
  {
   "cell_type": "markdown",
   "metadata": {},
   "source": [
    "For further info about you can check official documentation or just write:\n",
    "\n",
    "```function?```"
   ]
  },
  {
   "cell_type": "code",
   "execution_count": null,
   "metadata": {},
   "outputs": [],
   "source": []
  }
 ],
 "metadata": {
  "kernelspec": {
   "display_name": "Python 3",
   "language": "python",
   "name": "python3"
  },
  "language_info": {
   "codemirror_mode": {
    "name": "ipython",
    "version": 3
   },
   "file_extension": ".py",
   "mimetype": "text/x-python",
   "name": "python",
   "nbconvert_exporter": "python",
   "pygments_lexer": "ipython3",
   "version": "3.7.6"
  }
 },
 "nbformat": 4,
 "nbformat_minor": 2
}
