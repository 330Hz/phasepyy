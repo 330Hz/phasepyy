{
 "cells": [
  {
   "cell_type": "markdown",
   "metadata": {},
   "source": [
    "# Dew Point (VLE)\n",
    "\n",
    "This notebook has te purpose of showing examples of VLE of mixtures with phasepy.\n",
    "\n",
    "First it's needed to import the necessary modules"
   ]
  },
  {
   "cell_type": "code",
   "execution_count": 1,
   "metadata": {},
   "outputs": [],
   "source": [
    "import numpy as np\n",
    "from phasepy import mixture, component, prsveos\n",
    "#prsveos refers to Peng Robinson Stryjek-Vera EOS"
   ]
  },
  {
   "cell_type": "code",
   "execution_count": 2,
   "metadata": {},
   "outputs": [],
   "source": [
    "#Components creation\n",
    "ethanol = component(name = 'ethanol', Tc = 514.0, Pc = 61.37, Zc = 0.241, Vc = 168.0, w = 0.643558,\n",
    "                ksv = [1.27092923, 0.0440421],\n",
    "                GC = {'CH3':1, 'CH2':1, 'OH(P)':1})\n",
    "\n",
    "mtbe = component(name = 'mtbe', Tc = 497.1, Pc = 34.3, Zc = 0.273, Vc = 329.0, w = 0.266059,\n",
    "                ksv = [0.76429651, 0.04242646],\n",
    "                GC = {'CH3':3, 'CH3O':1, 'C':1})\n",
    "\n",
    "#Mixture Creating\n",
    "mix = mixture(mtbe, ethanol)\n",
    "#PArameters to Redlich Kister Expansion for Ge/RT\n",
    "C0 = np.array([ 0.02635196, -0.02855964,  0.01592515])\n",
    "C1 = np.array([312.575789  ,  50.1476555 ,   5.13981131])\n",
    "mix.rk(C0, C1)\n",
    "\n",
    "eos = prsveos(mix, mixrule = 'mhv_rk')"
   ]
  },
  {
   "cell_type": "code",
   "execution_count": 3,
   "metadata": {},
   "outputs": [
    {
     "data": {
      "text/plain": [
       "      T: 350\n",
       "      P: 1.5445973713541081\n",
       "  error: 1.0114131754335176e-11\n",
       "   iter: 6\n",
       "      X: array([0.23512692, 0.76487308])\n",
       "     v1: 79.85925572312878\n",
       " state1: 'Liquid'\n",
       "      Y: array([0.5, 0.5])\n",
       "     v2: 18058.94206982037\n",
       " state2: 'Vapor'"
      ]
     },
     "execution_count": 3,
     "metadata": {},
     "output_type": "execute_result"
    }
   ],
   "source": [
    "#importing dew point algorithm y, T -> x , P\n",
    "from phasepy.equilibrium import dewPx\n",
    "y = np.array([0.5,0.5])\n",
    "T = 350 #K\n",
    "x0 = np.array([0.5,0.5])\n",
    "P0 = 1 #bar\n",
    "P0 = 10.\n",
    "dewPx(x0, P0, y, T, eos, full_output = True)"
   ]
  },
  {
   "cell_type": "code",
   "execution_count": 4,
   "metadata": {},
   "outputs": [
    {
     "data": {
      "text/plain": [
       "      T: 341.7556832715946\n",
       "      P: 1.0\n",
       "  error: 0.0\n",
       "   iter: 5\n",
       "      X: array([0.1357666, 0.8642334])\n",
       "     v1: 73.2467337525736\n",
       " state1: 'Liquid'\n",
       "      Y: array([0.4, 0.6])\n",
       "     v2: 27627.203998257108\n",
       " state2: 'Vapor'"
      ]
     },
     "execution_count": 4,
     "metadata": {},
     "output_type": "execute_result"
    }
   ],
   "source": [
    "#importing dew point algorithm y, P -> x , T\n",
    "from phasepy.equilibrium import dewTx\n",
    "y = np.array([0.4,0.6])\n",
    "P = 1. #bar\n",
    "x0 = np.array([0.1,0.9])\n",
    "T0 = 360.\n",
    "dewTx(x0, T0, y, P, eos, full_output = True)"
   ]
  },
  {
   "cell_type": "markdown",
   "metadata": {},
   "source": [
    "All equilibrium routines are n-component. An example with a ternary mixture:"
   ]
  },
  {
   "cell_type": "code",
   "execution_count": 5,
   "metadata": {},
   "outputs": [],
   "source": [
    "from phasepy import rkeos\n",
    "#rkeos refers to Redlich Kwong EOS\n",
    "mtbe = component(name = 'mtbe', Tc = 497.1, Pc = 34.3, Zc = 0.273, Vc = 329.0, w = 0.266059,\n",
    "                Ant = [   9.16238246, 2541.97883529,  -50.40534341], \n",
    "                GC = {'CH3':3, 'CH3O':1, 'C':1})\n",
    "\n",
    "ethanol = component(name = 'ethanol', Tc = 514.0, Pc = 61.37, Zc = 0.241, Vc = 168.0, w = 0.643558,\n",
    "                Ant = [  11.61809279, 3423.0259436 ,  -56.48094263],\n",
    "                GC = {'CH3':1, 'CH2':1,'OH(P)':1})\n",
    "\n",
    "butanol = component(name = 'n-Butanol',  Tc =563.0, Pc = 44.14, Zc = 0.258, Vc = 274.0, w = 0.589462,\n",
    "                Ant = [   9.74673479, 2668.52570016, -116.66189545]\n",
    "                ,GC = {'CH3':1, 'CH2':3, 'OH(P)':1})\n",
    "\n",
    "mix2 = mixture(mtbe, ethanol)\n",
    "mix2.add_component(butanol)\n",
    "mix2.unifac()\n",
    "\n",
    "eos2 = rkeos(mix2, 'mhv_unifac')"
   ]
  },
  {
   "cell_type": "code",
   "execution_count": 6,
   "metadata": {},
   "outputs": [
    {
     "data": {
      "text/plain": [
       "      T: 350.0\n",
       "      P: 4.860776708694645\n",
       "  error: 2.495781359357352e-13\n",
       "   iter: 5\n",
       "      X: array([0.10835492, 0.35502478, 0.5366203 ])\n",
       "     v1: 115.51058484613684\n",
       " state1: 'Liquid'\n",
       "      Y: array([0.2, 0.5, 0.3])\n",
       "     v2: 5398.966638149191\n",
       " state2: 'Vapor'"
      ]
     },
     "execution_count": 6,
     "metadata": {},
     "output_type": "execute_result"
    }
   ],
   "source": [
    "# dew point  y, T -> x , P\n",
    "y = np.array([0.2,0.5, 0.3])\n",
    "T = 350.\n",
    "x0 = np.array([0.2,0.5, 0.3])\n",
    "P0 = 1\n",
    "dewPx(x0, P0, y, T, eos2, full_output = True)"
   ]
  },
  {
   "cell_type": "code",
   "execution_count": 7,
   "metadata": {},
   "outputs": [
    {
     "data": {
      "text/plain": [
       "      T: 312.23086106685014\n",
       "      P: 2.0\n",
       "  error: 2.601918680508132e-12\n",
       "   iter: 4\n",
       "      X: array([0.09352745, 0.33039433, 0.57607822])\n",
       "     v1: 108.73161181479445\n",
       " state1: 'Liquid'\n",
       "      Y: array([0.2, 0.5, 0.3])\n",
       "     v2: 12312.021812268267\n",
       " state2: 'Vapor'"
      ]
     },
     "execution_count": 7,
     "metadata": {},
     "output_type": "execute_result"
    }
   ],
   "source": [
    "# dew point  y, P -> y , T\n",
    "y = np.array([0.2,0.5, 0.3])\n",
    "P = 2. #bar\n",
    "x0 = np.array([0.2,0.5, 0.3])\n",
    "T0 = 320 #K\n",
    "dewTx(x0, T0, y, P, eos2, full_output = True)"
   ]
  },
  {
   "cell_type": "markdown",
   "metadata": {},
   "source": [
    "For further info about you can check official documentation o just write:\n",
    "\n",
    "```function?```"
   ]
  },
  {
   "cell_type": "code",
   "execution_count": null,
   "metadata": {},
   "outputs": [],
   "source": []
  }
 ],
 "metadata": {
  "kernelspec": {
   "display_name": "Python 3",
   "language": "python",
   "name": "python3"
  },
  "language_info": {
   "codemirror_mode": {
    "name": "ipython",
    "version": 3
   },
   "file_extension": ".py",
   "mimetype": "text/x-python",
   "name": "python",
   "nbconvert_exporter": "python",
   "pygments_lexer": "ipython3",
   "version": "3.7.6"
  }
 },
 "nbformat": 4,
 "nbformat_minor": 2
}
