{
 "cells": [
  {
   "cell_type": "markdown",
   "metadata": {},
   "source": [
    "# Square Gradient Theory for Mixtures\n",
    "\n",
    "This notebook has te purpose of showing examples of computing interfacial tension of mixtures and beta != 0.\n",
    "\n",
    "First it's needed to import the necessary modules"
   ]
  },
  {
   "cell_type": "code",
   "execution_count": 1,
   "metadata": {},
   "outputs": [],
   "source": [
    "import numpy as np\n",
    "from phasepy import component, mixture, prsveos\n",
    "from phasepy.equilibrium import bubblePy\n",
    "from phasepy.sgt import sgt_mix, msgt_mix\n",
    "import matplotlib.pyplot as plt"
   ]
  },
  {
   "cell_type": "markdown",
   "metadata": {},
   "source": [
    "Then the mixture and EoS are created. The bubble point of the mixture of x1 = 0.3 at 320K is computed. The ```full_output``` option allows to obtain the compositions, densities and equilibrium pressure."
   ]
  },
  {
   "cell_type": "code",
   "execution_count": 2,
   "metadata": {},
   "outputs": [],
   "source": [
    "hexane = component(name = 'n-Hexane', Tc = 507.6, Pc = 30.25, Zc = 0.266, Vc = 371.0, w = 0.301261, \n",
    "                ksv = [ 0.81185833, -0.08790848],\n",
    "                cii = [ 5.03377433e-24, -3.41297789e-21,  9.97008208e-19],\n",
    "                GC = {'CH3':2, 'CH2':4})\n",
    "\n",
    "ethanol = component(name = 'Ethanol', Tc = 514.0, Pc = 61.37, Zc = 0.241, Vc = 168.0, w = 0.643558,\n",
    "                ksv = [1.27092923, 0.0440421 ],\n",
    "                cii = [ 2.35206942e-24, -1.32498074e-21,  2.31193555e-19],\n",
    "                GC = {'CH3':1, 'CH2':1, 'OH(P)':1})\n",
    "\n",
    "mix = mixture(ethanol, hexane)\n",
    "\n",
    "a12, a21 = np.array([1141.56994427,  125.25729314])\n",
    "A = np.array([[0, a12], [a21, 0]])\n",
    "mix.wilson(A)\n",
    "\n",
    "eos = prsveos(mix, 'mhv_wilson')\n",
    "\n",
    "T = 320 #K\n",
    "X = np.array([0.3, 0.7])\n",
    "P0 = 0.3 #bar\n",
    "Y0 = np.array([0.7, 0.3])\n",
    "\n",
    "sol = bubblePy(Y0, P0, X, T, eos, full_output = True)\n",
    "Y = sol.Y\n",
    "P = sol.P\n",
    "vl = sol.v1\n",
    "vv = sol.v2\n",
    "\n",
    "#computing the density vector\n",
    "rhol = X / vl\n",
    "rhov = Y / vv"
   ]
  },
  {
   "cell_type": "markdown",
   "metadata": {},
   "source": [
    "In order to set the beta correction is necessary to create the matrix and then use it with the  ```beta_sgt``` method from the eos. If this step is not done the ```sgt_mix``` or ```msgt_sgt``` function will raise an error as the influence parameter matrix will be singular. "
   ]
  },
  {
   "cell_type": "code",
   "execution_count": 3,
   "metadata": {},
   "outputs": [],
   "source": [
    "bij = 0.1\n",
    "beta = np.array([[0, bij], [bij, 0]])\n",
    "eos.beta_sgt(beta)"
   ]
  },
  {
   "cell_type": "markdown",
   "metadata": {},
   "source": [
    "The first possibility is to solve the BVP iteratively using ortoghonal collocation. The initial interfacial lenght is set to 10 Amstrong and the density profiles are solved, then the interfacial lenght is increased until the calculated interfacial tension doesnt change more than a given tolerance.\n",
    "\n",
    "The initial value can be set as ```'linear'``` or ```'hyperbolic'``` to use a linear or a hyperbolic approximation. Optionally a array can be passed to the argument ```rho0``` or a TensionResult for another calculation, as for example, the density profile computed with beta0 calculation."
   ]
  },
  {
   "cell_type": "code",
   "execution_count": 11,
   "metadata": {},
   "outputs": [
    {
     "name": "stderr",
     "output_type": "stream",
     "text": [
      "C:\\Users\\boltzmann\\miniconda3\\lib\\site-packages\\phasepy-0.0.35-py3.7-win-amd64.egg\\phasepy\\cubic\\mhv.py:67: RuntimeWarning: invalid value encountered in log\n",
      "  f0 = (- 1. - np.log(Umhv_1) - (em/(c1-c2)) * logUmhv)\n",
      "C:\\Users\\boltzmann\\miniconda3\\lib\\site-packages\\phasepy-0.0.35-py3.7-win-amd64.egg\\phasepy\\cubic\\mhv.py:242: RuntimeWarning: invalid value encountered in log\n",
      "  logbibm = np.log(bibm)\n"
     ]
    }
   ],
   "source": [
    "sol = sgt_mix(rhol, rhov, T, P, eos, z0 = 10,  rho0 = 'linear', full_output = True)"
   ]
  },
  {
   "cell_type": "code",
   "execution_count": 13,
   "metadata": {},
   "outputs": [
    {
     "data": {
      "text/plain": [
       "array([0.00000000e+00, 3.58052639e-08, 9.84830119e-07, 5.89238684e-06,\n",
       "       2.04063727e-05, 5.48437142e-05, 1.34655653e-04, 3.48053772e-04,\n",
       "       1.02920029e-03, 3.06517319e-03, 7.01194889e-03, 1.10239854e-02,\n",
       "       1.32779240e-02, 1.30488849e-02, 1.03701432e-02, 6.58032831e-03,\n",
       "       3.29548017e-03, 1.29483240e-03, 3.90166908e-04, 7.56974612e-05,\n",
       "       3.53563956e-06, 0.00000000e+00])"
      ]
     },
     "execution_count": 13,
     "metadata": {},
     "output_type": "execute_result"
    }
   ],
   "source": [
    "sol.tension\n",
    "sol.rho\n",
    "sol.z\n",
    "sol.GPT"
   ]
  },
  {
   "cell_type": "markdown",
   "metadata": {},
   "source": [
    "The other option is to used a modified SGT system which includes a temporal variable which help to reach the stationary density profile ignoring the non linearity of the BVP at the first iterations. This type of computation use a fixed value for the interfacial lenght.\n",
    "\n",
    "The initial value options to solve the density profiles are the same as for ```sgt_mix```. In this case the previously computed TensionResult is used as an initial guess."
   ]
  },
  {
   "cell_type": "code",
   "execution_count": 6,
   "metadata": {},
   "outputs": [],
   "source": [
    "solm = msgt_mix(rhol, rhov, T, P, eos, z = 20, rho0 = sol, full_output = True)"
   ]
  },
  {
   "cell_type": "code",
   "execution_count": 14,
   "metadata": {},
   "outputs": [
    {
     "data": {
      "text/plain": [
       "   tension: 14.367828523644574\n",
       "       rho: array([[2.61428464e-03, 2.63884452e-03, 2.74297431e-03, 2.92776187e-03,\n",
       "        3.18775313e-03, 3.51136469e-03, 3.86785262e-03, 4.17696262e-03,\n",
       "        4.24856191e-03, 3.76728073e-03, 2.57284397e-03, 1.19331490e-03,\n",
       "        4.18471313e-04, 1.77201185e-04, 9.10003087e-05, 5.07095251e-05,\n",
       "        3.07875162e-05, 2.03732769e-05, 1.44544659e-05, 1.06936500e-05,\n",
       "        8.16094071e-06, 7.43452174e-06],\n",
       "       [6.09999748e-03, 6.08698933e-03, 6.03179454e-03, 5.93356692e-03,\n",
       "        5.79367978e-03, 5.61344341e-03, 5.39550595e-03, 5.14798426e-03,\n",
       "        4.89332088e-03, 4.66413591e-03, 4.43825339e-03, 4.04407081e-03,\n",
       "        3.32539168e-03, 2.43277287e-03, 1.60226372e-03, 9.50158516e-04,\n",
       "        5.08955462e-04, 2.50866370e-04, 1.17501736e-04, 5.33468494e-05,\n",
       "        2.45478688e-05, 1.81467491e-05]])\n",
       "         z: array([ 0.        ,  0.06527831,  0.34226669,  0.83377293,  1.52838877,\n",
       "        2.40984689,  3.45749003,  4.64676348,  5.94979216,  7.33603441,\n",
       "        8.77299805, 10.22700195, 11.66396559, 13.05020784, 14.35323652,\n",
       "       15.54250997, 16.59015311, 17.47161123, 18.16622707, 18.65773331,\n",
       "       18.93472169, 19.        ])\n",
       "       GPT: array([0.00000000e+00, 3.58167641e-08, 9.85152092e-07, 5.89439308e-06,\n",
       "       2.04139627e-05, 5.48679197e-05, 1.34734178e-04, 3.48331864e-04,\n",
       "       1.03016083e-03, 3.06758475e-03, 7.01514109e-03, 1.10261912e-02,\n",
       "       1.32787089e-02, 1.30477303e-02, 1.03674483e-02, 6.57724301e-03,\n",
       "       3.29309030e-03, 1.29351009e-03, 3.89651790e-04, 7.55778821e-05,\n",
       "       3.52925293e-06, 0.00000000e+00])\n",
       "     error: 0.0004113549602910825\n",
       " fun_error: 2.752034650511359e-13"
      ]
     },
     "execution_count": 14,
     "metadata": {},
     "output_type": "execute_result"
    }
   ],
   "source": [
    "solm.tens"
   ]
  },
  {
   "cell_type": "code",
   "execution_count": 7,
   "metadata": {},
   "outputs": [
    {
     "name": "stdout",
     "output_type": "stream",
     "text": [
      "BVP SGT :  14.367813285943484 mN/m\n",
      "Modified BVP SGT :  14.367828523644574 mN/m\n"
     ]
    }
   ],
   "source": [
    "print('BVP SGT : ', sol.tension, 'mN/m')\n",
    "print('Modified BVP SGT : ', solm.tension, 'mN/m')"
   ]
  },
  {
   "cell_type": "markdown",
   "metadata": {},
   "source": [
    "Finally the density profiles can be compared. It can be seen that when a correction to the cross influence parameter just one stationary point across the interface."
   ]
  },
  {
   "cell_type": "code",
   "execution_count": 8,
   "metadata": {},
   "outputs": [
    {
     "data": {
      "text/plain": [
       "Text(0, 0.5, '$\\\\rho_2$ / kmol m$^{-3}$ ')"
      ]
     },
     "execution_count": 8,
     "metadata": {},
     "output_type": "execute_result"
    },
    {
     "data": {
      "image/png": "[encoded data removed]",
      "text/plain": [
       "<Figure size 360x360 with 1 Axes>"
      ]
     },
     "metadata": {
      "needs_background": "light"
     },
     "output_type": "display_data"
    }
   ],
   "source": [
    "#conver densitites to kmol/m3\n",
    "rho = sol.rho * 1000\n",
    "rhom = solm.rho * 1000 \n",
    "\n",
    "fig = plt.figure(figsize = (5,5))\n",
    "ax = fig.add_subplot(111)\n",
    "ax.plot(rho[0], rho[1], '--')\n",
    "ax.plot(rhom[0], rhom[1], '.')\n",
    "ax.set_xlabel(r'$\\rho_1$ / kmol m$^{-3}$ ')\n",
    "ax.set_ylabel(r'$\\rho_2$ / kmol m$^{-3}$ ')"
   ]
  },
  {
   "cell_type": "code",
   "execution_count": null,
   "metadata": {},
   "outputs": [],
   "source": []
  }
 ],
 "metadata": {
  "kernelspec": {
   "display_name": "Python 3",
   "language": "python",
   "name": "python3"
  },
  "language_info": {
   "codemirror_mode": {
    "name": "ipython",
    "version": 3
   },
   "file_extension": ".py",
   "mimetype": "text/x-python",
   "name": "python",
   "nbconvert_exporter": "python",
   "pygments_lexer": "ipython3",
   "version": "3.7.6"
  }
 },
 "nbformat": 4,
 "nbformat_minor": 2
}
