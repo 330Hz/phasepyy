{
 "cells": [
  {
   "cell_type": "markdown",
   "metadata": {},
   "source": [
    "# Square Gradient Theory for Pure Components\n",
    "\n",
    "This notebook has te purpose of showing examples of computing interfacial tension of pure fluids.\n",
    "\n",
    "First it's needed to import the necessary modules"
   ]
  },
  {
   "cell_type": "code",
   "execution_count": 1,
   "metadata": {},
   "outputs": [],
   "source": [
    "import numpy as np\n",
    "from phasepy import component, prsveos\n",
    "from phasepy.sgt import sgt_pure"
   ]
  },
  {
   "cell_type": "code",
   "execution_count": 2,
   "metadata": {},
   "outputs": [],
   "source": [
    "#component creation\n",
    "water =  component(name = 'Water', Tc = 647.13, Pc = 220.55, Zc = 0.229, Vc = 55.948, w = 0.344861,\n",
    "                ksv = [ 0.87185176, -0.06621339], cii = [2.06553362e-26, 2.64204784e-23, 4.10320513e-21])\n",
    "\n",
    "#EoS object creation\n",
    "eos = prsveos(water)"
   ]
  },
  {
   "cell_type": "markdown",
   "metadata": {},
   "source": [
    "First vapor-liquid equilibria has to be computed. This is done with the ```psat``` method from the EoS, which returns the pressure and densities at equilibrium."
   ]
  },
  {
   "cell_type": "code",
   "execution_count": 3,
   "metadata": {},
   "outputs": [],
   "source": [
    "T = 350 #K\n",
    "Psat, vl, vv = eos.psat(T)\n",
    "rhol = 1/vl\n",
    "rhov = 1/vv"
   ]
  },
  {
   "cell_type": "markdown",
   "metadata": {},
   "source": [
    "Once the equilibrium is computed, the interfacial tension can be computed as follow:"
   ]
  },
  {
   "cell_type": "code",
   "execution_count": 4,
   "metadata": {},
   "outputs": [
    {
     "data": {
      "text/plain": [
       "array([63.25083234])"
      ]
     },
     "execution_count": 4,
     "metadata": {},
     "output_type": "execute_result"
    }
   ],
   "source": [
    "tension = sgt_pure(rhov, rhol, T, Psat, eos, full_output = False)\n",
    "tension"
   ]
  },
  {
   "cell_type": "markdown",
   "metadata": {},
   "source": [
    "If all the calculated information is wanted, the ```full_output``` options allows to obtain, density profiles, interfacial tensionand and grand thermodynamic potential."
   ]
  },
  {
   "cell_type": "code",
   "execution_count": 5,
   "metadata": {},
   "outputs": [],
   "source": [
    "solution = sgt_pure(rhol, rhov, T, Psat, eos, full_output = True)"
   ]
  },
  {
   "cell_type": "code",
   "execution_count": 6,
   "metadata": {},
   "outputs": [
    {
     "data": {
      "text/plain": [
       "Text(0, 0.5, '$\\\\rho$ / cm$^3$ mol$^{-1}$')"
      ]
     },
     "execution_count": 6,
     "metadata": {},
     "output_type": "execute_result"
    }
   ],
   "source": [
    "import matplotlib.pyplot as plt\n",
    "z = solution.z\n",
    "rho = solution.rho\n",
    "plt.plot(z, rho)\n",
    "plt.xlabel(r'z/ $\\AA$')\n",
    "plt.ylabel(r'$\\rho$ / cm$^3$ mol$^{-1}$')"
   ]
  },
  {
   "cell_type": "markdown",
   "metadata": {},
   "source": [
    "The procedure can be repeated in a for loop, allowing to study the interfacial behavior against the temperature. The results can be compared agaisnt experimental data."
   ]
  },
  {
   "cell_type": "code",
   "execution_count": 7,
   "metadata": {},
   "outputs": [
    {
     "name": "stderr",
     "output_type": "stream",
     "text": [
      "C:\\Users\\gustavo\\Documents\\phasepy\\phasepy\\sgt\\sgtpuros.py:89: RuntimeWarning: invalid value encountered in sqrt\n",
      "  tenint = np.nan_to_num(np.sqrt(2*dOm))\n"
     ]
    }
   ],
   "source": [
    "#Experimental Saturation Data of water obtained from NIST\n",
    "#Saturation Temperature in Kelvin\n",
    "Tsat = np.array([290., 300., 310., 320., 330., 340., 350., 360., 370., 380.]) \n",
    "\n",
    "#Interfacial Tension in mN/m\n",
    "tension = np.array([73.21 , 71.686, 70.106, 68.47 , 66.781, 65.04 , 63.248, 61.406,\n",
    "       59.517, 57.581]) \n",
    "\n",
    "ten_sgt = np.zeros_like(tension)\n",
    "n = len(Tsat)\n",
    "\n",
    "for i in range(n):\n",
    "    P, vl, vv = eos.psat(Tsat[i])\n",
    "    rhol = 1/vl\n",
    "    rhov = 1/vv\n",
    "    ten_sgt[i] = sgt_pure(rhol, rhov, Tsat[i], P, eos, full_output = False)"
   ]
  },
  {
   "cell_type": "code",
   "execution_count": 8,
   "metadata": {},
   "outputs": [
    {
     "data": {
      "text/plain": [
       "Text(0, 0.5, 'IFT / mN/m')"
      ]
     },
     "execution_count": 8,
     "metadata": {},
     "output_type": "execute_result"
    },
    {
     "data": {
      "image/png": "[encoded data removed]",
      "text/plain": [
       "<Figure size 432x288 with 1 Axes>"
      ]
     },
     "metadata": {
      "needs_background": "light"
     },
     "output_type": "display_data"
    }
   ],
   "source": [
    "plt.plot(Tsat, tension, 'o')\n",
    "plt.plot(Tsat, ten_sgt)\n",
    "plt.xlabel('T/K')\n",
    "plt.ylabel('IFT / mN/m')"
   ]
  },
  {
   "cell_type": "code",
   "execution_count": null,
   "metadata": {},
   "outputs": [],
   "source": []
  }
 ],
 "metadata": {
  "kernelspec": {
   "display_name": "Python 3",
   "language": "python",
   "name": "python3"
  },
  "language_info": {
   "codemirror_mode": {
    "name": "ipython",
    "version": 3
   },
   "file_extension": ".py",
   "mimetype": "text/x-python",
   "name": "python",
   "nbconvert_exporter": "python",
   "pygments_lexer": "ipython3",
   "version": "3.7.3"
  }
 },
 "nbformat": 4,
 "nbformat_minor": 2
}
