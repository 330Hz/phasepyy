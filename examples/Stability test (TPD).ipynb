{
 "cells": [
  {
   "cell_type": "markdown",
   "metadata": {},
   "source": [
    "# Stability test with Tangent Plane distance function\n",
    "\n",
    "This notebook has te purpose of showing examples of tpd functions of phasepy.\n",
    "\n"
   ]
  },
  {
   "cell_type": "code",
   "execution_count": 1,
   "metadata": {},
   "outputs": [],
   "source": [
    "import numpy as np\n",
    "from phasepy import component, mixture"
   ]
  },
  {
   "cell_type": "markdown",
   "metadata": {},
   "source": [
    "```tpd_min``` function search for a minimum of tpd function given an initial value. It is possible to specify wheter the trial or global phases are liquids or vapors."
   ]
  },
  {
   "cell_type": "code",
   "execution_count": 2,
   "metadata": {},
   "outputs": [
    {
     "data": {
      "text/plain": [
       "(array([0.16434188, 0.83565812]), 0.2457656393235672)"
      ]
     },
     "execution_count": 2,
     "metadata": {},
     "output_type": "execute_result"
    }
   ],
   "source": [
    "from phasepy import preos\n",
    "from phasepy.equilibrium import tpd_min\n",
    "\n",
    "water = component(name = 'water', Tc = 647.13, Pc = 220.55, Zc = 0.229, Vc = 55.948, w = 0.344861,\n",
    "                Ant =  [  11.64785144, 3797.41566067,  -46.77830444],\n",
    "                GC = {'H2O':1})\n",
    "\n",
    "mtbe = component(name = 'mtbe', Tc = 497.1, Pc = 34.3, Zc = 0.273, Vc = 329.0, w = 0.266059,\n",
    "                Ant = [   9.16238246, 2541.97883529,  -50.40534341], \n",
    "                GC = {'CH3':3, 'CH3O':1, 'C':1})\n",
    "\n",
    "\n",
    "mix = mixture(water, mtbe)\n",
    "mix.unifac()\n",
    "model = preos(mix, 'mhv_unifac')\n",
    "\n",
    "T = 320\n",
    "P = 1.01\n",
    "z = np.array([0.5,0.5])\n",
    "#Search for trial phase\n",
    "w = np.array([0.01,0.99])\n",
    "\n",
    "tpd_min(w, z, T, P, model, 'L', 'L')\n",
    "#composition of minimum found and tpd value\n",
    "#array([0.3068438, 0.6931562]), -0.005923914972662647\n",
    "\n",
    "tpd_min(w, z, T, P, model, 'V', 'L')\n",
    "#composition of minimum found and tpd value\n",
    "#array([0.16434071, 0.83565929]), 0.24576563932346407"
   ]
  },
  {
   "cell_type": "markdown",
   "metadata": {},
   "source": [
    "```tpd_minimas``` works similarly to ```tpd_min``` but it will attemp to find al the minimuns of the tpd function. "
   ]
  },
  {
   "cell_type": "code",
   "execution_count": 3,
   "metadata": {},
   "outputs": [
    {
     "data": {
      "text/plain": [
       "((array([0.16434088, 0.83565912]), array([0.16434088, 0.83565912])),\n",
       " array([0.24576564, 0.24576564]))"
      ]
     },
     "execution_count": 3,
     "metadata": {},
     "output_type": "execute_result"
    }
   ],
   "source": [
    "\n",
    "from phasepy.equilibrium import tpd_minimas\n",
    "\n",
    "water = component(name = 'water', Tc = 647.13, Pc = 220.55, Zc = 0.229, Vc = 55.948, w = 0.344861,\n",
    "                Ant =  [  11.64785144, 3797.41566067,  -46.77830444],\n",
    "                GC = {'H2O':1})\n",
    "\n",
    "mtbe = component(name = 'mtbe', Tc = 497.1, Pc = 34.3, Zc = 0.273, Vc = 329.0, w = 0.266059,\n",
    "                Ant = [   9.16238246, 2541.97883529,  -50.40534341], \n",
    "                GC = {'CH3':3, 'CH3O':1, 'C':1})\n",
    "\n",
    "mix = mixture(water, mtbe)\n",
    "mix.unifac()\n",
    "model = preos(mix, 'mhv_unifac')\n",
    "\n",
    "T = 320\n",
    "P = 1.01\n",
    "z = np.array([0.5,0.5])\n",
    "\n",
    "\n",
    "#number of minimus to find\n",
    "nmin = 2\n",
    "tpd_minimas(nmin , z, T, P, model, 'L', 'L')\n",
    "#composition of minimuns found and tpd values\n",
    "#(array([0.99538258, 0.00461742]), array([0.30683414, 0.69316586])),\n",
    "# array([-0.33722905, -0.00592392])\n",
    "\n",
    "tpd_minimas(nmin , z, T, P, model, 'V', 'L')"
   ]
  },
  {
   "cell_type": "markdown",
   "metadata": {},
   "source": [
    "As initial guess are always complicated to get, an additional function is supplied that search for all the minimums of the tagent plane distance function."
   ]
  },
  {
   "cell_type": "code",
   "execution_count": 6,
   "metadata": {},
   "outputs": [
    {
     "data": {
      "text/plain": [
       "(array([0.99538258, 0.00461742]), array([0.30683406, 0.69316594]))"
      ]
     },
     "execution_count": 6,
     "metadata": {},
     "output_type": "execute_result"
    }
   ],
   "source": [
    "from phasepy.equilibrium import lle_init\n",
    "\n",
    "mix = mixture(water, mtbe)\n",
    "mix.unifac()\n",
    "model = preos(mix, 'mhv_unifac')\n",
    "\n",
    "T = 320\n",
    "P = 1.01\n",
    "z = np.array([0.5,0.5])\n",
    "\n",
    "#initial composition values for ell computation\n",
    "lle_init(z, T, P, model)"
   ]
  },
  {
   "cell_type": "markdown",
   "metadata": {},
   "source": [
    "For further info about you can check official documentation or just write:\n",
    "\n",
    "```function?```"
   ]
  },
  {
   "cell_type": "code",
   "execution_count": null,
   "metadata": {},
   "outputs": [],
   "source": []
  }
 ],
 "metadata": {
  "kernelspec": {
   "display_name": "Python 3",
   "language": "python",
   "name": "python3"
  }
 },
 "nbformat": 4,
 "nbformat_minor": 2
}
